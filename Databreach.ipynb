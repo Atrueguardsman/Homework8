{
 "cells": [
  {
   "cell_type": "code",
   "execution_count": 1,
   "metadata": {},
   "outputs": [
    {
     "data": {
      "text/plain": [
       "<module 'matplotlib.style' from 'C:\\\\Users\\\\nicka\\\\anaconda3\\\\lib\\\\site-packages\\\\matplotlib\\\\style\\\\__init__.py'>"
      ]
     },
     "execution_count": 1,
     "metadata": {},
     "output_type": "execute_result"
    }
   ],
   "source": [
    "#importing required packages\n",
    "import pandas as pd\n",
    "import numpy as np\n",
    "import matplotlib.pyplot as plt\n",
    "plt.style\n"
   ]
  },
  {
   "cell_type": "code",
   "execution_count": 2,
   "metadata": {},
   "outputs": [
    {
     "data": {
      "text/html": [
       "<div>\n",
       "<style scoped>\n",
       "    .dataframe tbody tr th:only-of-type {\n",
       "        vertical-align: middle;\n",
       "    }\n",
       "\n",
       "    .dataframe tbody tr th {\n",
       "        vertical-align: top;\n",
       "    }\n",
       "\n",
       "    .dataframe thead th {\n",
       "        text-align: right;\n",
       "    }\n",
       "</style>\n",
       "<table border=\"1\" class=\"dataframe\">\n",
       "  <thead>\n",
       "    <tr style=\"text-align: right;\">\n",
       "      <th></th>\n",
       "      <th>Id</th>\n",
       "      <th>DateAware</th>\n",
       "      <th>DateSubmitted</th>\n",
       "      <th>DataBreachCause</th>\n",
       "      <th>DateStart</th>\n",
       "      <th>DateEnd</th>\n",
       "      <th>Name</th>\n",
       "      <th>CyberattackType</th>\n",
       "      <th>WashingtoniansAffected</th>\n",
       "      <th>IndustryType</th>\n",
       "      <th>BusinessType</th>\n",
       "      <th>InformationType</th>\n",
       "      <th>Year</th>\n",
       "      <th>WashingtoniansAffectedRange</th>\n",
       "      <th>BreachLifecycleRange</th>\n",
       "    </tr>\n",
       "  </thead>\n",
       "  <tbody>\n",
       "    <tr>\n",
       "      <th>0</th>\n",
       "      <td>9561</td>\n",
       "      <td>3/28/2018 0:00</td>\n",
       "      <td>4/11/2018 0:00</td>\n",
       "      <td>Cyberattack</td>\n",
       "      <td>2017-09-26T00:00:00</td>\n",
       "      <td>2017-10-12T00:00:00</td>\n",
       "      <td>Delta Airlines</td>\n",
       "      <td>Malware</td>\n",
       "      <td>24563.0</td>\n",
       "      <td>Business</td>\n",
       "      <td>Software</td>\n",
       "      <td>Name</td>\n",
       "      <td>2018</td>\n",
       "      <td>10,000-49,999</td>\n",
       "      <td>100-199</td>\n",
       "    </tr>\n",
       "    <tr>\n",
       "      <th>1</th>\n",
       "      <td>9561</td>\n",
       "      <td>3/28/2018 0:00</td>\n",
       "      <td>4/11/2018 0:00</td>\n",
       "      <td>Cyberattack</td>\n",
       "      <td>2017-09-26T00:00:00</td>\n",
       "      <td>2017-10-12T00:00:00</td>\n",
       "      <td>Delta Airlines</td>\n",
       "      <td>Malware</td>\n",
       "      <td>24563.0</td>\n",
       "      <td>Business</td>\n",
       "      <td>Software</td>\n",
       "      <td>Financial &amp; Banking Information</td>\n",
       "      <td>2018</td>\n",
       "      <td>10,000-49,999</td>\n",
       "      <td>100-199</td>\n",
       "    </tr>\n",
       "    <tr>\n",
       "      <th>2</th>\n",
       "      <td>9561</td>\n",
       "      <td>3/28/2018 0:00</td>\n",
       "      <td>4/11/2018 0:00</td>\n",
       "      <td>Cyberattack</td>\n",
       "      <td>2017-09-26T00:00:00</td>\n",
       "      <td>2017-10-12T00:00:00</td>\n",
       "      <td>Delta Airlines</td>\n",
       "      <td>Malware</td>\n",
       "      <td>24563.0</td>\n",
       "      <td>Business</td>\n",
       "      <td>Software</td>\n",
       "      <td>Other</td>\n",
       "      <td>2018</td>\n",
       "      <td>10,000-49,999</td>\n",
       "      <td>100-199</td>\n",
       "    </tr>\n",
       "    <tr>\n",
       "      <th>3</th>\n",
       "      <td>9562</td>\n",
       "      <td>3/28/2018 0:00</td>\n",
       "      <td>4/13/2018 0:00</td>\n",
       "      <td>Cyberattack</td>\n",
       "      <td>2017-09-26T00:00:00</td>\n",
       "      <td>2017-10-12T00:00:00</td>\n",
       "      <td>Best Buy Co, Inc.</td>\n",
       "      <td>Malware</td>\n",
       "      <td>8390.0</td>\n",
       "      <td>Business</td>\n",
       "      <td>Retail</td>\n",
       "      <td>Name</td>\n",
       "      <td>2018</td>\n",
       "      <td>1,000-9,999</td>\n",
       "      <td>100-199</td>\n",
       "    </tr>\n",
       "    <tr>\n",
       "      <th>4</th>\n",
       "      <td>9562</td>\n",
       "      <td>3/28/2018 0:00</td>\n",
       "      <td>4/13/2018 0:00</td>\n",
       "      <td>Cyberattack</td>\n",
       "      <td>2017-09-26T00:00:00</td>\n",
       "      <td>2017-10-12T00:00:00</td>\n",
       "      <td>Best Buy Co, Inc.</td>\n",
       "      <td>Malware</td>\n",
       "      <td>8390.0</td>\n",
       "      <td>Business</td>\n",
       "      <td>Retail</td>\n",
       "      <td>Financial &amp; Banking Information</td>\n",
       "      <td>2018</td>\n",
       "      <td>1,000-9,999</td>\n",
       "      <td>100-199</td>\n",
       "    </tr>\n",
       "  </tbody>\n",
       "</table>\n",
       "</div>"
      ],
      "text/plain": [
       "     Id       DateAware   DateSubmitted DataBreachCause            DateStart  \\\n",
       "0  9561  3/28/2018 0:00  4/11/2018 0:00     Cyberattack  2017-09-26T00:00:00   \n",
       "1  9561  3/28/2018 0:00  4/11/2018 0:00     Cyberattack  2017-09-26T00:00:00   \n",
       "2  9561  3/28/2018 0:00  4/11/2018 0:00     Cyberattack  2017-09-26T00:00:00   \n",
       "3  9562  3/28/2018 0:00  4/13/2018 0:00     Cyberattack  2017-09-26T00:00:00   \n",
       "4  9562  3/28/2018 0:00  4/13/2018 0:00     Cyberattack  2017-09-26T00:00:00   \n",
       "\n",
       "               DateEnd               Name CyberattackType  \\\n",
       "0  2017-10-12T00:00:00     Delta Airlines         Malware   \n",
       "1  2017-10-12T00:00:00     Delta Airlines         Malware   \n",
       "2  2017-10-12T00:00:00     Delta Airlines         Malware   \n",
       "3  2017-10-12T00:00:00  Best Buy Co, Inc.         Malware   \n",
       "4  2017-10-12T00:00:00  Best Buy Co, Inc.         Malware   \n",
       "\n",
       "   WashingtoniansAffected IndustryType BusinessType  \\\n",
       "0                 24563.0     Business     Software   \n",
       "1                 24563.0     Business     Software   \n",
       "2                 24563.0     Business     Software   \n",
       "3                  8390.0     Business       Retail   \n",
       "4                  8390.0     Business       Retail   \n",
       "\n",
       "                   InformationType  Year WashingtoniansAffectedRange  \\\n",
       "0                             Name  2018               10,000-49,999   \n",
       "1  Financial & Banking Information  2018               10,000-49,999   \n",
       "2                            Other  2018               10,000-49,999   \n",
       "3                             Name  2018                 1,000-9,999   \n",
       "4  Financial & Banking Information  2018                 1,000-9,999   \n",
       "\n",
       "  BreachLifecycleRange  \n",
       "0              100-199  \n",
       "1              100-199  \n",
       "2              100-199  \n",
       "3              100-199  \n",
       "4              100-199  "
      ]
     },
     "execution_count": 2,
     "metadata": {},
     "output_type": "execute_result"
    }
   ],
   "source": [
    "df = pd.read_csv('./Databreach.csv') #reading csv and we save it into a variable\n",
    "df.head() \n",
    " "
   ]
  },
  {
   "cell_type": "code",
   "execution_count": 3,
   "metadata": {},
   "outputs": [],
   "source": [
    "#df[[\"DataBreachCause\",\"CyberattackType\",\"IndustryType\",\"Name\",\"InformationType\"]]  # created a list of names to filter throughdf[df\n"
   ]
  },
  {
   "cell_type": "code",
   "execution_count": 4,
   "metadata": {},
   "outputs": [
    {
     "data": {
      "text/plain": [
       "(str, numpy.float64)"
      ]
     },
     "execution_count": 4,
     "metadata": {},
     "output_type": "execute_result"
    }
   ],
   "source": [
    "type(df.CyberattackType[0]), type(df.WashingtoniansAffected[0])"
   ]
  },
  {
   "cell_type": "code",
   "execution_count": 5,
   "metadata": {},
   "outputs": [],
   "source": [
    "\n",
    "df.IndustryType = df.IndustryType.astype('string')\n",
    "df.WashingtoniansAffected = df.WashingtoniansAffected.astype('float') # places specific data types from quantitative vs cat"
   ]
  },
  {
   "cell_type": "code",
   "execution_count": 6,
   "metadata": {},
   "outputs": [],
   "source": [
    "df.Year.fillna(\"unknown\",inplace = True) # if Naan appears turn to Unknown\n",
    "df.WashingtoniansAffected.fillna(0,inplace = True)"
   ]
  },
  {
   "cell_type": "code",
   "execution_count": 7,
   "metadata": {},
   "outputs": [
    {
     "data": {
      "text/plain": [
       "<function matplotlib.pyplot.ylabel(ylabel, fontdict=None, labelpad=None, **kwargs)>"
      ]
     },
     "execution_count": 7,
     "metadata": {},
     "output_type": "execute_result"
    },
    {
     "data": {
      "image/png": "[encoded data removed]",
      "text/plain": [
       "<Figure size 432x288 with 1 Axes>"
      ]
     },
     "metadata": {
      "needs_background": "light"
     },
     "output_type": "display_data"
    }
   ],
   "source": [
    "plt.bar(df.Year, df.WashingtoniansAffected) # provides visual data comparing the year vs numbers effected)\n",
    "plt.xticks(rotation = 90)\n",
    "plt.title\n",
    "plt.xlabel\n",
    "plt.ylabel"
   ]
  },
  {
   "cell_type": "code",
   "execution_count": 8,
   "metadata": {},
   "outputs": [],
   "source": [
    "df.IndustryType.fillna(\"unknown\",inplace = True)\n",
    "df.WashingtoniansAffected.fillna(0,inplace = True)"
   ]
  },
  {
   "cell_type": "code",
   "execution_count": 9,
   "metadata": {},
   "outputs": [
    {
     "data": {
      "text/plain": [
       "<function matplotlib.pyplot.ylabel(ylabel, fontdict=None, labelpad=None, **kwargs)>"
      ]
     },
     "execution_count": 9,
     "metadata": {},
     "output_type": "execute_result"
    },
    {
     "data": {
      "image/png": "[encoded data removed]",
      "text/plain": [
       "<Figure size 432x288 with 1 Axes>"
      ]
     },
     "metadata": {
      "needs_background": "light"
     },
     "output_type": "display_data"
    }
   ],
   "source": [
    "\n",
    "plt.bar(df.IndustryType, df.WashingtoniansAffected) # providing industry type based on the numbers effected in a visual format\n",
    "plt.xticks(rotation = 90)\n",
    "plt.title\n",
    "plt.xlabel\n",
    "plt.ylabel"
   ]
  },
  {
   "cell_type": "code",
   "execution_count": null,
   "metadata": {},
   "outputs": [],
   "source": []
  },
  {
   "cell_type": "markdown",
   "metadata": {},
   "source": [
    "# BAR Graph"
   ]
  },
  {
   "cell_type": "code",
   "execution_count": null,
   "metadata": {},
   "outputs": [],
   "source": []
  },
  {
   "cell_type": "code",
   "execution_count": null,
   "metadata": {},
   "outputs": [],
   "source": []
  }
 ],
 "metadata": {
  "kernelspec": {
   "display_name": "Python 3",
   "language": "python",
   "name": "python3"
  },
  "language_info": {
   "codemirror_mode": {
    "name": "ipython",
    "version": 3
   },
   "file_extension": ".py",
   "mimetype": "text/x-python",
   "name": "python",
   "nbconvert_exporter": "python",
   "pygments_lexer": "ipython3",
   "version": "3.7.6"
  }
 },
 "nbformat": 4,
 "nbformat_minor": 4
}
